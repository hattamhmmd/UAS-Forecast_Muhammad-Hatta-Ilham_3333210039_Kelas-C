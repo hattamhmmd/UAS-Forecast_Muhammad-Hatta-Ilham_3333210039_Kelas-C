{
  "cells": [
    {
      "cell_type": "markdown",
      "metadata": {
        "id": "view-in-github",
        "colab_type": "text"
      },
      "source": [
        "<a href=\"https://colab.research.google.com/github/hattamhmmd/UAS-Forecast_Muhammad-Hatta-Ilham_3333210039_Kelas-C/blob/main/3333210039_Muhammad_Hatta_Ilham_UAS_Forecasting.ipynb\" target=\"_parent\"><img src=\"https://colab.research.google.com/assets/colab-badge.svg\" alt=\"Open In Colab\"/></a>"
      ]
    },
    {
      "cell_type": "markdown",
      "source": [
        "**Nama: Muhammad Hatta Ilham**\n",
        "\n",
        "**NIM: 3333210039**\n",
        "\n",
        "**Kelas: C**\n",
        "\n",
        "**Mata Kuliah: Analitika Data**\n",
        "\n",
        "**Dataset: Adani Group Stock Prices 2016-2023**\n",
        "\n",
        "\n",
        "---\n",
        "\n"
      ],
      "metadata": {
        "id": "4NQAQyOYjRkt"
      }
    },
    {
      "cell_type": "markdown",
      "source": [
        "**Time Series**\n",
        "\n",
        "A time-series is a series of data points indexed in time order and it is used to predict the future based on the previous observed values. Time series are very frequently plotted via line charts. Time series are used in statistics , weather forecasting, stock price prediction, pattern recognititon, earthquake prediction, e.t.c.\n",
        "\n",
        "Time series analysis comprises methods for analysing time series data in order to extract meaningful statistics and other characteristics of the data.\n",
        "\n",
        "Time series forecasting is the use of a model to predict future values based on previously observed values."
      ],
      "metadata": {
        "id": "ceTGfrcAoIyG"
      }
    },
    {
      "cell_type": "markdown",
      "source": [
        "**Import Library**"
      ],
      "metadata": {
        "id": "KTuS__yhzwG4"
      }
    },
    {
      "cell_type": "markdown",
      "source": [
        "Pertama-tama import library yang akan digunakan\n"
      ],
      "metadata": {
        "id": "Rx88DhKtYEl5"
      }
    },
    {
      "cell_type": "code",
      "source": [
        "import pandas as pd\n",
        "import numpy as np\n",
        "import matplotlib.pyplot as plt\n",
        "import seaborn as sns\n",
        "import math\n",
        "import datetime\n",
        "%matplotlib inline"
      ],
      "metadata": {
        "id": "uCngqnD4qrmY"
      },
      "execution_count": 24,
      "outputs": []
    },
    {
      "cell_type": "markdown",
      "source": [
        "1. Mengimpor pandas dengan alias pd untuk manipulasi dan analisis data.\n",
        "2. Mengimpor numpy dengan alias np untuk operasi matematika dan manipulasi array.\n",
        "3. Mengimpor matplotlib.pyplot dengan alias plt untuk membuat grafik dan plot.\n",
        "4. Mengimpor seaborn untuk visualisasi data statistik yang menarik dan informatif.\n",
        "5. Mengimpor math untuk fungsi matematika yang kompleks.\n",
        "6. Mengimpor datetime untuk bekerja dengan waktu dan tanggal.\n",
        "7. Menggunakan %matplotlib inline untuk menampilkan output plot matplotlib di halaman notebook secara langsung"
      ],
      "metadata": {
        "id": "5dleoz5kZBC6"
      }
    },
    {
      "cell_type": "markdown",
      "source": [
        "**Import Dataset**"
      ],
      "metadata": {
        "id": "8hRjDuoyzlpH"
      }
    },
    {
      "cell_type": "markdown",
      "source": [
        "Dataset source : https://www.kaggle.com/datasets/kabhishm/adani-group-stock-prices-20162023"
      ],
      "metadata": {
        "id": "IzZdTvtYzpUg"
      }
    },
    {
      "cell_type": "markdown",
      "source": [
        "Import dataset yang sudah di upload di google drive dengan cara menyalin link google drive file tersebut."
      ],
      "metadata": {
        "id": "I5XE6Xq5ZqIt"
      }
    },
    {
      "cell_type": "code",
      "source": [
        "# https://drive.google.com/file/d/17-MQxaYJ86blBHzb55koYLJI5XOqCs4V/view?usp=sharing\n",
        "\n",
        "!gdown 17-MQxaYJ86blBHzb55koYLJI5XOqCs4V"
      ],
      "metadata": {
        "colab": {
          "base_uri": "https://localhost:8080/"
        },
        "id": "sKdunXrwzd2e",
        "outputId": "c9f45397-77ac-4c58-94f0-39babe8c6d6e"
      },
      "execution_count": 25,
      "outputs": [
        {
          "output_type": "stream",
          "name": "stdout",
          "text": [
            "Downloading...\n",
            "From: https://drive.google.com/uc?id=17-MQxaYJ86blBHzb55koYLJI5XOqCs4V\n",
            "To: /content/ADANIENT.NS.csv\n",
            "\r  0% 0.00/129k [00:00<?, ?B/s]\r100% 129k/129k [00:00<00:00, 124MB/s]\n"
          ]
        }
      ]
    },
    {
      "cell_type": "markdown",
      "source": [
        "---\n",
        "> Membaca file CSV 'ADANIENT.NS.csv' menggunakan fungsi read_csv() dari pandas. Hasilnya disimpan dalam variabel train_data. Fungsi ini mengubah data tabular dari file CSV menjadi DataFrame.\n",
        "\n",
        "> Menggunakan metode head() dari train_data untuk menampilkan beberapa baris pertama dari DataFrame. Metode ini digunakan untuk melihat sebagian kecil data, biasanya lima baris pertama, dan tujuannya adalah memeriksa struktur dan isi data yang telah dibaca.\n",
        "\n"
      ],
      "metadata": {
        "id": "d6NG2cv1afHn"
      }
    },
    {
      "cell_type": "code",
      "source": [
        "train_data = pd.read_csv('ADANIENT.NS.csv')\n",
        "train_data.head()"
      ],
      "metadata": {
        "colab": {
          "base_uri": "https://localhost:8080/",
          "height": 206
        },
        "id": "z4ytHhkuz0hQ",
        "outputId": "58de7fb1-ff93-4865-aa7a-f1ba33aee4f6"
      },
      "execution_count": 26,
      "outputs": [
        {
          "output_type": "execute_result",
          "data": {
            "text/plain": [
              "         Date       Open       High        Low      Close  Adj Close    Volume\n",
              "0  2016-01-01  45.553741  49.422543  44.872616  49.095600  47.614208  10963906\n",
              "1  2016-01-04  48.768658  50.158157  45.907928  46.371094  44.971912   9408965\n",
              "2  2016-01-05  46.670792  48.823151  45.880684  48.278248  46.821522   9801814\n",
              "3  2016-01-06  47.951309  48.468964  46.480076  46.997730  45.579639   7093448\n",
              "4  2016-01-07  46.262115  46.262115  42.502296  43.564854  42.250347   8919023"
            ],
            "text/html": [
              "\n",
              "  <div id=\"df-a4096521-29c8-4013-aa23-9c03b5baab5b\">\n",
              "    <div class=\"colab-df-container\">\n",
              "      <div>\n",
              "<style scoped>\n",
              "    .dataframe tbody tr th:only-of-type {\n",
              "        vertical-align: middle;\n",
              "    }\n",
              "\n",
              "    .dataframe tbody tr th {\n",
              "        vertical-align: top;\n",
              "    }\n",
              "\n",
              "    .dataframe thead th {\n",
              "        text-align: right;\n",
              "    }\n",
              "</style>\n",
              "<table border=\"1\" class=\"dataframe\">\n",
              "  <thead>\n",
              "    <tr style=\"text-align: right;\">\n",
              "      <th></th>\n",
              "      <th>Date</th>\n",
              "      <th>Open</th>\n",
              "      <th>High</th>\n",
              "      <th>Low</th>\n",
              "      <th>Close</th>\n",
              "      <th>Adj Close</th>\n",
              "      <th>Volume</th>\n",
              "    </tr>\n",
              "  </thead>\n",
              "  <tbody>\n",
              "    <tr>\n",
              "      <th>0</th>\n",
              "      <td>2016-01-01</td>\n",
              "      <td>45.553741</td>\n",
              "      <td>49.422543</td>\n",
              "      <td>44.872616</td>\n",
              "      <td>49.095600</td>\n",
              "      <td>47.614208</td>\n",
              "      <td>10963906</td>\n",
              "    </tr>\n",
              "    <tr>\n",
              "      <th>1</th>\n",
              "      <td>2016-01-04</td>\n",
              "      <td>48.768658</td>\n",
              "      <td>50.158157</td>\n",
              "      <td>45.907928</td>\n",
              "      <td>46.371094</td>\n",
              "      <td>44.971912</td>\n",
              "      <td>9408965</td>\n",
              "    </tr>\n",
              "    <tr>\n",
              "      <th>2</th>\n",
              "      <td>2016-01-05</td>\n",
              "      <td>46.670792</td>\n",
              "      <td>48.823151</td>\n",
              "      <td>45.880684</td>\n",
              "      <td>48.278248</td>\n",
              "      <td>46.821522</td>\n",
              "      <td>9801814</td>\n",
              "    </tr>\n",
              "    <tr>\n",
              "      <th>3</th>\n",
              "      <td>2016-01-06</td>\n",
              "      <td>47.951309</td>\n",
              "      <td>48.468964</td>\n",
              "      <td>46.480076</td>\n",
              "      <td>46.997730</td>\n",
              "      <td>45.579639</td>\n",
              "      <td>7093448</td>\n",
              "    </tr>\n",
              "    <tr>\n",
              "      <th>4</th>\n",
              "      <td>2016-01-07</td>\n",
              "      <td>46.262115</td>\n",
              "      <td>46.262115</td>\n",
              "      <td>42.502296</td>\n",
              "      <td>43.564854</td>\n",
              "      <td>42.250347</td>\n",
              "      <td>8919023</td>\n",
              "    </tr>\n",
              "  </tbody>\n",
              "</table>\n",
              "</div>\n",
              "      <button class=\"colab-df-convert\" onclick=\"convertToInteractive('df-a4096521-29c8-4013-aa23-9c03b5baab5b')\"\n",
              "              title=\"Convert this dataframe to an interactive table.\"\n",
              "              style=\"display:none;\">\n",
              "        \n",
              "  <svg xmlns=\"http://www.w3.org/2000/svg\" height=\"24px\"viewBox=\"0 0 24 24\"\n",
              "       width=\"24px\">\n",
              "    <path d=\"M0 0h24v24H0V0z\" fill=\"none\"/>\n",
              "    <path d=\"M18.56 5.44l.94 2.06.94-2.06 2.06-.94-2.06-.94-.94-2.06-.94 2.06-2.06.94zm-11 1L8.5 8.5l.94-2.06 2.06-.94-2.06-.94L8.5 2.5l-.94 2.06-2.06.94zm10 10l.94 2.06.94-2.06 2.06-.94-2.06-.94-.94-2.06-.94 2.06-2.06.94z\"/><path d=\"M17.41 7.96l-1.37-1.37c-.4-.4-.92-.59-1.43-.59-.52 0-1.04.2-1.43.59L10.3 9.45l-7.72 7.72c-.78.78-.78 2.05 0 2.83L4 21.41c.39.39.9.59 1.41.59.51 0 1.02-.2 1.41-.59l7.78-7.78 2.81-2.81c.8-.78.8-2.07 0-2.86zM5.41 20L4 18.59l7.72-7.72 1.47 1.35L5.41 20z\"/>\n",
              "  </svg>\n",
              "      </button>\n",
              "      \n",
              "  <style>\n",
              "    .colab-df-container {\n",
              "      display:flex;\n",
              "      flex-wrap:wrap;\n",
              "      gap: 12px;\n",
              "    }\n",
              "\n",
              "    .colab-df-convert {\n",
              "      background-color: #E8F0FE;\n",
              "      border: none;\n",
              "      border-radius: 50%;\n",
              "      cursor: pointer;\n",
              "      display: none;\n",
              "      fill: #1967D2;\n",
              "      height: 32px;\n",
              "      padding: 0 0 0 0;\n",
              "      width: 32px;\n",
              "    }\n",
              "\n",
              "    .colab-df-convert:hover {\n",
              "      background-color: #E2EBFA;\n",
              "      box-shadow: 0px 1px 2px rgba(60, 64, 67, 0.3), 0px 1px 3px 1px rgba(60, 64, 67, 0.15);\n",
              "      fill: #174EA6;\n",
              "    }\n",
              "\n",
              "    [theme=dark] .colab-df-convert {\n",
              "      background-color: #3B4455;\n",
              "      fill: #D2E3FC;\n",
              "    }\n",
              "\n",
              "    [theme=dark] .colab-df-convert:hover {\n",
              "      background-color: #434B5C;\n",
              "      box-shadow: 0px 1px 3px 1px rgba(0, 0, 0, 0.15);\n",
              "      filter: drop-shadow(0px 1px 2px rgba(0, 0, 0, 0.3));\n",
              "      fill: #FFFFFF;\n",
              "    }\n",
              "  </style>\n",
              "\n",
              "      <script>\n",
              "        const buttonEl =\n",
              "          document.querySelector('#df-a4096521-29c8-4013-aa23-9c03b5baab5b button.colab-df-convert');\n",
              "        buttonEl.style.display =\n",
              "          google.colab.kernel.accessAllowed ? 'block' : 'none';\n",
              "\n",
              "        async function convertToInteractive(key) {\n",
              "          const element = document.querySelector('#df-a4096521-29c8-4013-aa23-9c03b5baab5b');\n",
              "          const dataTable =\n",
              "            await google.colab.kernel.invokeFunction('convertToInteractive',\n",
              "                                                     [key], {});\n",
              "          if (!dataTable) return;\n",
              "\n",
              "          const docLinkHtml = 'Like what you see? Visit the ' +\n",
              "            '<a target=\"_blank\" href=https://colab.research.google.com/notebooks/data_table.ipynb>data table notebook</a>'\n",
              "            + ' to learn more about interactive tables.';\n",
              "          element.innerHTML = '';\n",
              "          dataTable['output_type'] = 'display_data';\n",
              "          await google.colab.output.renderOutput(dataTable, element);\n",
              "          const docLink = document.createElement('div');\n",
              "          docLink.innerHTML = docLinkHtml;\n",
              "          element.appendChild(docLink);\n",
              "        }\n",
              "      </script>\n",
              "    </div>\n",
              "  </div>\n",
              "  "
            ]
          },
          "metadata": {},
          "execution_count": 26
        }
      ]
    },
    {
      "cell_type": "markdown",
      "source": [
        "Check missing values"
      ],
      "metadata": {
        "id": "YJuRYmM00AJv"
      }
    },
    {
      "cell_type": "code",
      "source": [
        "train_data.info()"
      ],
      "metadata": {
        "colab": {
          "base_uri": "https://localhost:8080/"
        },
        "id": "xvG658HJ0CJk",
        "outputId": "7407f80a-d037-4858-9260-7ac0231c3085"
      },
      "execution_count": 27,
      "outputs": [
        {
          "output_type": "stream",
          "name": "stdout",
          "text": [
            "<class 'pandas.core.frame.DataFrame'>\n",
            "RangeIndex: 1750 entries, 0 to 1749\n",
            "Data columns (total 7 columns):\n",
            " #   Column     Non-Null Count  Dtype  \n",
            "---  ------     --------------  -----  \n",
            " 0   Date       1750 non-null   object \n",
            " 1   Open       1750 non-null   float64\n",
            " 2   High       1750 non-null   float64\n",
            " 3   Low        1750 non-null   float64\n",
            " 4   Close      1750 non-null   float64\n",
            " 5   Adj Close  1750 non-null   float64\n",
            " 6   Volume     1750 non-null   int64  \n",
            "dtypes: float64(5), int64(1), object(1)\n",
            "memory usage: 95.8+ KB\n"
          ]
        }
      ]
    },
    {
      "cell_type": "markdown",
      "source": [
        "Dengan me-*running* train_data.info(), kita dapat melihat informasi tentang DataFrame train_data seperti jumlah kolom, nama kolom, tipe data, dan jumlah nilai non-null dalam setiap kolom. Ini berguna untuk memahami data yang sedang dianalisis dan memeriksa keberadaan nilai yang hilang (null) dalam DataFrame.\n",
        "\n",
        "\n",
        "---\n",
        "\n"
      ],
      "metadata": {
        "id": "zFmcvvdLbzNk"
      }
    },
    {
      "cell_type": "markdown",
      "source": [
        "Check statistic vales for every features"
      ],
      "metadata": {
        "id": "Jmz1TgoV0IFn"
      }
    },
    {
      "cell_type": "code",
      "source": [
        "train_data.describe()"
      ],
      "metadata": {
        "colab": {
          "base_uri": "https://localhost:8080/",
          "height": 300
        },
        "id": "uOvHbZV90Fee",
        "outputId": "bbc44da5-4621-493a-88ee-669e42c663e8"
      },
      "execution_count": 28,
      "outputs": [
        {
          "output_type": "execute_result",
          "data": {
            "text/plain": [
              "              Open         High          Low        Close    Adj Close  \\\n",
              "count  1750.000000  1750.000000  1750.000000  1750.000000  1750.000000   \n",
              "mean    688.173234   700.569161   675.238559   688.457278   687.474594   \n",
              "std    1021.967477  1036.977084  1004.148913  1021.222423  1021.504948   \n",
              "min      32.149174    33.402447    31.713251    32.012947    31.047001   \n",
              "25%      74.134321    75.891117    72.430996    74.392643    73.068065   \n",
              "50%     148.150002   152.000000   144.975006   148.025002   146.764984   \n",
              "75%    1193.587524  1237.750000  1173.500000  1198.837524  1197.533173   \n",
              "max    4175.000000  4190.000000  4066.399902  4165.299805  4165.299805   \n",
              "\n",
              "             Volume  \n",
              "count  1.750000e+03  \n",
              "mean   7.511264e+06  \n",
              "std    1.019781e+07  \n",
              "min    2.482490e+05  \n",
              "25%    2.789816e+06  \n",
              "50%    4.716164e+06  \n",
              "75%    8.319164e+06  \n",
              "max    1.701502e+08  "
            ],
            "text/html": [
              "\n",
              "  <div id=\"df-0ca40f76-2bb2-4863-880c-0dbe5e975e8b\">\n",
              "    <div class=\"colab-df-container\">\n",
              "      <div>\n",
              "<style scoped>\n",
              "    .dataframe tbody tr th:only-of-type {\n",
              "        vertical-align: middle;\n",
              "    }\n",
              "\n",
              "    .dataframe tbody tr th {\n",
              "        vertical-align: top;\n",
              "    }\n",
              "\n",
              "    .dataframe thead th {\n",
              "        text-align: right;\n",
              "    }\n",
              "</style>\n",
              "<table border=\"1\" class=\"dataframe\">\n",
              "  <thead>\n",
              "    <tr style=\"text-align: right;\">\n",
              "      <th></th>\n",
              "      <th>Open</th>\n",
              "      <th>High</th>\n",
              "      <th>Low</th>\n",
              "      <th>Close</th>\n",
              "      <th>Adj Close</th>\n",
              "      <th>Volume</th>\n",
              "    </tr>\n",
              "  </thead>\n",
              "  <tbody>\n",
              "    <tr>\n",
              "      <th>count</th>\n",
              "      <td>1750.000000</td>\n",
              "      <td>1750.000000</td>\n",
              "      <td>1750.000000</td>\n",
              "      <td>1750.000000</td>\n",
              "      <td>1750.000000</td>\n",
              "      <td>1.750000e+03</td>\n",
              "    </tr>\n",
              "    <tr>\n",
              "      <th>mean</th>\n",
              "      <td>688.173234</td>\n",
              "      <td>700.569161</td>\n",
              "      <td>675.238559</td>\n",
              "      <td>688.457278</td>\n",
              "      <td>687.474594</td>\n",
              "      <td>7.511264e+06</td>\n",
              "    </tr>\n",
              "    <tr>\n",
              "      <th>std</th>\n",
              "      <td>1021.967477</td>\n",
              "      <td>1036.977084</td>\n",
              "      <td>1004.148913</td>\n",
              "      <td>1021.222423</td>\n",
              "      <td>1021.504948</td>\n",
              "      <td>1.019781e+07</td>\n",
              "    </tr>\n",
              "    <tr>\n",
              "      <th>min</th>\n",
              "      <td>32.149174</td>\n",
              "      <td>33.402447</td>\n",
              "      <td>31.713251</td>\n",
              "      <td>32.012947</td>\n",
              "      <td>31.047001</td>\n",
              "      <td>2.482490e+05</td>\n",
              "    </tr>\n",
              "    <tr>\n",
              "      <th>25%</th>\n",
              "      <td>74.134321</td>\n",
              "      <td>75.891117</td>\n",
              "      <td>72.430996</td>\n",
              "      <td>74.392643</td>\n",
              "      <td>73.068065</td>\n",
              "      <td>2.789816e+06</td>\n",
              "    </tr>\n",
              "    <tr>\n",
              "      <th>50%</th>\n",
              "      <td>148.150002</td>\n",
              "      <td>152.000000</td>\n",
              "      <td>144.975006</td>\n",
              "      <td>148.025002</td>\n",
              "      <td>146.764984</td>\n",
              "      <td>4.716164e+06</td>\n",
              "    </tr>\n",
              "    <tr>\n",
              "      <th>75%</th>\n",
              "      <td>1193.587524</td>\n",
              "      <td>1237.750000</td>\n",
              "      <td>1173.500000</td>\n",
              "      <td>1198.837524</td>\n",
              "      <td>1197.533173</td>\n",
              "      <td>8.319164e+06</td>\n",
              "    </tr>\n",
              "    <tr>\n",
              "      <th>max</th>\n",
              "      <td>4175.000000</td>\n",
              "      <td>4190.000000</td>\n",
              "      <td>4066.399902</td>\n",
              "      <td>4165.299805</td>\n",
              "      <td>4165.299805</td>\n",
              "      <td>1.701502e+08</td>\n",
              "    </tr>\n",
              "  </tbody>\n",
              "</table>\n",
              "</div>\n",
              "      <button class=\"colab-df-convert\" onclick=\"convertToInteractive('df-0ca40f76-2bb2-4863-880c-0dbe5e975e8b')\"\n",
              "              title=\"Convert this dataframe to an interactive table.\"\n",
              "              style=\"display:none;\">\n",
              "        \n",
              "  <svg xmlns=\"http://www.w3.org/2000/svg\" height=\"24px\"viewBox=\"0 0 24 24\"\n",
              "       width=\"24px\">\n",
              "    <path d=\"M0 0h24v24H0V0z\" fill=\"none\"/>\n",
              "    <path d=\"M18.56 5.44l.94 2.06.94-2.06 2.06-.94-2.06-.94-.94-2.06-.94 2.06-2.06.94zm-11 1L8.5 8.5l.94-2.06 2.06-.94-2.06-.94L8.5 2.5l-.94 2.06-2.06.94zm10 10l.94 2.06.94-2.06 2.06-.94-2.06-.94-.94-2.06-.94 2.06-2.06.94z\"/><path d=\"M17.41 7.96l-1.37-1.37c-.4-.4-.92-.59-1.43-.59-.52 0-1.04.2-1.43.59L10.3 9.45l-7.72 7.72c-.78.78-.78 2.05 0 2.83L4 21.41c.39.39.9.59 1.41.59.51 0 1.02-.2 1.41-.59l7.78-7.78 2.81-2.81c.8-.78.8-2.07 0-2.86zM5.41 20L4 18.59l7.72-7.72 1.47 1.35L5.41 20z\"/>\n",
              "  </svg>\n",
              "      </button>\n",
              "      \n",
              "  <style>\n",
              "    .colab-df-container {\n",
              "      display:flex;\n",
              "      flex-wrap:wrap;\n",
              "      gap: 12px;\n",
              "    }\n",
              "\n",
              "    .colab-df-convert {\n",
              "      background-color: #E8F0FE;\n",
              "      border: none;\n",
              "      border-radius: 50%;\n",
              "      cursor: pointer;\n",
              "      display: none;\n",
              "      fill: #1967D2;\n",
              "      height: 32px;\n",
              "      padding: 0 0 0 0;\n",
              "      width: 32px;\n",
              "    }\n",
              "\n",
              "    .colab-df-convert:hover {\n",
              "      background-color: #E2EBFA;\n",
              "      box-shadow: 0px 1px 2px rgba(60, 64, 67, 0.3), 0px 1px 3px 1px rgba(60, 64, 67, 0.15);\n",
              "      fill: #174EA6;\n",
              "    }\n",
              "\n",
              "    [theme=dark] .colab-df-convert {\n",
              "      background-color: #3B4455;\n",
              "      fill: #D2E3FC;\n",
              "    }\n",
              "\n",
              "    [theme=dark] .colab-df-convert:hover {\n",
              "      background-color: #434B5C;\n",
              "      box-shadow: 0px 1px 3px 1px rgba(0, 0, 0, 0.15);\n",
              "      filter: drop-shadow(0px 1px 2px rgba(0, 0, 0, 0.3));\n",
              "      fill: #FFFFFF;\n",
              "    }\n",
              "  </style>\n",
              "\n",
              "      <script>\n",
              "        const buttonEl =\n",
              "          document.querySelector('#df-0ca40f76-2bb2-4863-880c-0dbe5e975e8b button.colab-df-convert');\n",
              "        buttonEl.style.display =\n",
              "          google.colab.kernel.accessAllowed ? 'block' : 'none';\n",
              "\n",
              "        async function convertToInteractive(key) {\n",
              "          const element = document.querySelector('#df-0ca40f76-2bb2-4863-880c-0dbe5e975e8b');\n",
              "          const dataTable =\n",
              "            await google.colab.kernel.invokeFunction('convertToInteractive',\n",
              "                                                     [key], {});\n",
              "          if (!dataTable) return;\n",
              "\n",
              "          const docLinkHtml = 'Like what you see? Visit the ' +\n",
              "            '<a target=\"_blank\" href=https://colab.research.google.com/notebooks/data_table.ipynb>data table notebook</a>'\n",
              "            + ' to learn more about interactive tables.';\n",
              "          element.innerHTML = '';\n",
              "          dataTable['output_type'] = 'display_data';\n",
              "          await google.colab.output.renderOutput(dataTable, element);\n",
              "          const docLink = document.createElement('div');\n",
              "          docLink.innerHTML = docLinkHtml;\n",
              "          element.appendChild(docLink);\n",
              "        }\n",
              "      </script>\n",
              "    </div>\n",
              "  </div>\n",
              "  "
            ]
          },
          "metadata": {},
          "execution_count": 28
        }
      ]
    },
    {
      "cell_type": "markdown",
      "source": [
        "Coding diatas digunakan untuk menghasilkan ringkasan statistik deskriptif dari DataFrame seperti nilai rata-rata, standar deviasi, nilai minimum, kuartil, dan nilai maksimum dari kolom-kolom numerik dalam DataFrame\n",
        "\n",
        "\n",
        "---\n",
        "\n"
      ],
      "metadata": {
        "id": "JE2MA5kocRio"
      }
    },
    {
      "cell_type": "markdown",
      "source": [
        "Handle datetime data for time series"
      ],
      "metadata": {
        "id": "ckKHDQv80S2S"
      }
    },
    {
      "cell_type": "code",
      "source": [
        "train_data['Date'] = pd.to_datetime(train_data['Date'])\n",
        "train_data.set_index('Date', inplace=True)\n",
        "train_data.head()"
      ],
      "metadata": {
        "colab": {
          "base_uri": "https://localhost:8080/",
          "height": 237
        },
        "id": "V7gBtJvZ0SUZ",
        "outputId": "f3021d61-6fa4-441c-c01e-ba6574411135"
      },
      "execution_count": 29,
      "outputs": [
        {
          "output_type": "execute_result",
          "data": {
            "text/plain": [
              "                 Open       High        Low      Close  Adj Close    Volume\n",
              "Date                                                                       \n",
              "2016-01-01  45.553741  49.422543  44.872616  49.095600  47.614208  10963906\n",
              "2016-01-04  48.768658  50.158157  45.907928  46.371094  44.971912   9408965\n",
              "2016-01-05  46.670792  48.823151  45.880684  48.278248  46.821522   9801814\n",
              "2016-01-06  47.951309  48.468964  46.480076  46.997730  45.579639   7093448\n",
              "2016-01-07  46.262115  46.262115  42.502296  43.564854  42.250347   8919023"
            ],
            "text/html": [
              "\n",
              "  <div id=\"df-15b5ee90-657d-40be-9392-0388a1108f05\">\n",
              "    <div class=\"colab-df-container\">\n",
              "      <div>\n",
              "<style scoped>\n",
              "    .dataframe tbody tr th:only-of-type {\n",
              "        vertical-align: middle;\n",
              "    }\n",
              "\n",
              "    .dataframe tbody tr th {\n",
              "        vertical-align: top;\n",
              "    }\n",
              "\n",
              "    .dataframe thead th {\n",
              "        text-align: right;\n",
              "    }\n",
              "</style>\n",
              "<table border=\"1\" class=\"dataframe\">\n",
              "  <thead>\n",
              "    <tr style=\"text-align: right;\">\n",
              "      <th></th>\n",
              "      <th>Open</th>\n",
              "      <th>High</th>\n",
              "      <th>Low</th>\n",
              "      <th>Close</th>\n",
              "      <th>Adj Close</th>\n",
              "      <th>Volume</th>\n",
              "    </tr>\n",
              "    <tr>\n",
              "      <th>Date</th>\n",
              "      <th></th>\n",
              "      <th></th>\n",
              "      <th></th>\n",
              "      <th></th>\n",
              "      <th></th>\n",
              "      <th></th>\n",
              "    </tr>\n",
              "  </thead>\n",
              "  <tbody>\n",
              "    <tr>\n",
              "      <th>2016-01-01</th>\n",
              "      <td>45.553741</td>\n",
              "      <td>49.422543</td>\n",
              "      <td>44.872616</td>\n",
              "      <td>49.095600</td>\n",
              "      <td>47.614208</td>\n",
              "      <td>10963906</td>\n",
              "    </tr>\n",
              "    <tr>\n",
              "      <th>2016-01-04</th>\n",
              "      <td>48.768658</td>\n",
              "      <td>50.158157</td>\n",
              "      <td>45.907928</td>\n",
              "      <td>46.371094</td>\n",
              "      <td>44.971912</td>\n",
              "      <td>9408965</td>\n",
              "    </tr>\n",
              "    <tr>\n",
              "      <th>2016-01-05</th>\n",
              "      <td>46.670792</td>\n",
              "      <td>48.823151</td>\n",
              "      <td>45.880684</td>\n",
              "      <td>48.278248</td>\n",
              "      <td>46.821522</td>\n",
              "      <td>9801814</td>\n",
              "    </tr>\n",
              "    <tr>\n",
              "      <th>2016-01-06</th>\n",
              "      <td>47.951309</td>\n",
              "      <td>48.468964</td>\n",
              "      <td>46.480076</td>\n",
              "      <td>46.997730</td>\n",
              "      <td>45.579639</td>\n",
              "      <td>7093448</td>\n",
              "    </tr>\n",
              "    <tr>\n",
              "      <th>2016-01-07</th>\n",
              "      <td>46.262115</td>\n",
              "      <td>46.262115</td>\n",
              "      <td>42.502296</td>\n",
              "      <td>43.564854</td>\n",
              "      <td>42.250347</td>\n",
              "      <td>8919023</td>\n",
              "    </tr>\n",
              "  </tbody>\n",
              "</table>\n",
              "</div>\n",
              "      <button class=\"colab-df-convert\" onclick=\"convertToInteractive('df-15b5ee90-657d-40be-9392-0388a1108f05')\"\n",
              "              title=\"Convert this dataframe to an interactive table.\"\n",
              "              style=\"display:none;\">\n",
              "        \n",
              "  <svg xmlns=\"http://www.w3.org/2000/svg\" height=\"24px\"viewBox=\"0 0 24 24\"\n",
              "       width=\"24px\">\n",
              "    <path d=\"M0 0h24v24H0V0z\" fill=\"none\"/>\n",
              "    <path d=\"M18.56 5.44l.94 2.06.94-2.06 2.06-.94-2.06-.94-.94-2.06-.94 2.06-2.06.94zm-11 1L8.5 8.5l.94-2.06 2.06-.94-2.06-.94L8.5 2.5l-.94 2.06-2.06.94zm10 10l.94 2.06.94-2.06 2.06-.94-2.06-.94-.94-2.06-.94 2.06-2.06.94z\"/><path d=\"M17.41 7.96l-1.37-1.37c-.4-.4-.92-.59-1.43-.59-.52 0-1.04.2-1.43.59L10.3 9.45l-7.72 7.72c-.78.78-.78 2.05 0 2.83L4 21.41c.39.39.9.59 1.41.59.51 0 1.02-.2 1.41-.59l7.78-7.78 2.81-2.81c.8-.78.8-2.07 0-2.86zM5.41 20L4 18.59l7.72-7.72 1.47 1.35L5.41 20z\"/>\n",
              "  </svg>\n",
              "      </button>\n",
              "      \n",
              "  <style>\n",
              "    .colab-df-container {\n",
              "      display:flex;\n",
              "      flex-wrap:wrap;\n",
              "      gap: 12px;\n",
              "    }\n",
              "\n",
              "    .colab-df-convert {\n",
              "      background-color: #E8F0FE;\n",
              "      border: none;\n",
              "      border-radius: 50%;\n",
              "      cursor: pointer;\n",
              "      display: none;\n",
              "      fill: #1967D2;\n",
              "      height: 32px;\n",
              "      padding: 0 0 0 0;\n",
              "      width: 32px;\n",
              "    }\n",
              "\n",
              "    .colab-df-convert:hover {\n",
              "      background-color: #E2EBFA;\n",
              "      box-shadow: 0px 1px 2px rgba(60, 64, 67, 0.3), 0px 1px 3px 1px rgba(60, 64, 67, 0.15);\n",
              "      fill: #174EA6;\n",
              "    }\n",
              "\n",
              "    [theme=dark] .colab-df-convert {\n",
              "      background-color: #3B4455;\n",
              "      fill: #D2E3FC;\n",
              "    }\n",
              "\n",
              "    [theme=dark] .colab-df-convert:hover {\n",
              "      background-color: #434B5C;\n",
              "      box-shadow: 0px 1px 3px 1px rgba(0, 0, 0, 0.15);\n",
              "      filter: drop-shadow(0px 1px 2px rgba(0, 0, 0, 0.3));\n",
              "      fill: #FFFFFF;\n",
              "    }\n",
              "  </style>\n",
              "\n",
              "      <script>\n",
              "        const buttonEl =\n",
              "          document.querySelector('#df-15b5ee90-657d-40be-9392-0388a1108f05 button.colab-df-convert');\n",
              "        buttonEl.style.display =\n",
              "          google.colab.kernel.accessAllowed ? 'block' : 'none';\n",
              "\n",
              "        async function convertToInteractive(key) {\n",
              "          const element = document.querySelector('#df-15b5ee90-657d-40be-9392-0388a1108f05');\n",
              "          const dataTable =\n",
              "            await google.colab.kernel.invokeFunction('convertToInteractive',\n",
              "                                                     [key], {});\n",
              "          if (!dataTable) return;\n",
              "\n",
              "          const docLinkHtml = 'Like what you see? Visit the ' +\n",
              "            '<a target=\"_blank\" href=https://colab.research.google.com/notebooks/data_table.ipynb>data table notebook</a>'\n",
              "            + ' to learn more about interactive tables.';\n",
              "          element.innerHTML = '';\n",
              "          dataTable['output_type'] = 'display_data';\n",
              "          await google.colab.output.renderOutput(dataTable, element);\n",
              "          const docLink = document.createElement('div');\n",
              "          docLink.innerHTML = docLinkHtml;\n",
              "          element.appendChild(docLink);\n",
              "        }\n",
              "      </script>\n",
              "    </div>\n",
              "  </div>\n",
              "  "
            ]
          },
          "metadata": {},
          "execution_count": 29
        }
      ]
    },
    {
      "cell_type": "markdown",
      "source": [
        "Dengan menggunakan Coding diatas, data tanggal diubah menjadi tipe data datetime, dan kolom 'Date' diatur sebagai indeks. Hal ini memudahkan analisis berdasarkan waktu pada DataFrame tersebut.\n",
        "\n",
        "\n",
        "---\n",
        "\n"
      ],
      "metadata": {
        "id": "sIvzy1pZc7qg"
      }
    },
    {
      "cell_type": "markdown",
      "source": [
        "**EXPLORATORY DATA ANALYSIS**"
      ],
      "metadata": {
        "id": "jws0KgX027j6"
      }
    },
    {
      "cell_type": "markdown",
      "source": [
        "Now let’s visualise the Adjusted Close (Stock Price when market closed)"
      ],
      "metadata": {
        "id": "DU0XyTTV3Mpu"
      }
    },
    {
      "cell_type": "code",
      "source": [
        "plt.figure(figsize=(11, 8)) # resizing the plot\n",
        "train_data['Adj Close'].plot()\n",
        "plt.title('Closing Price History') # adding a title\n",
        "plt.xlabel('Date') # x label\n",
        "plt.ylabel('Closing Price') # y label\n",
        "plt.show()"
      ],
      "metadata": {
        "colab": {
          "base_uri": "https://localhost:8080/",
          "height": 662
        },
        "id": "OJ8xCxoDp5EG",
        "outputId": "c9e084ad-c1aa-44b3-99c3-3f600906d9c5"
      },
      "execution_count": 30,
      "outputs": [
        {
          "output_type": "display_data",
          "data": {
            "text/plain": [
              "<Figure size 1100x800 with 1 Axes>"
            ],
            "image/png": "[encoded data removed]"
          },
          "metadata": {}
        }
      ]
    },
    {
      "cell_type": "markdown",
      "source": [
        " Dengan menggunakan codingan diatas akan dihasilkan sebuah plot terhadap *'Adj Close'* dengan sumbu x yang mewakili *'Date'* dan sumbu y yang mewakili *'Close Price'*.\n",
        "\n",
        "\n",
        "> Dari grafik plot diatas dapat diketahui bahwa data menunjukkan pattern trend naik. Dikatakan pattern trend naik karena pattern data menggambarkan peningkatan seiring berjalannya waktu.\n",
        "\n",
        "\n",
        "\n",
        "---\n",
        "\n"
      ],
      "metadata": {
        "id": "NqjVW1H6dvi5"
      }
    },
    {
      "cell_type": "code",
      "source": [
        "plt.figure(figsize=(16, 8)) # resizing the plot\n",
        "cols = ['Open', 'Close', 'Volume', 'High', 'Low']\n",
        "axes = train_data[cols].plot(figsize=(11, 9), subplots = True)\n",
        "plt.show()"
      ],
      "metadata": {
        "id": "Dpu_Goeaqgb5",
        "colab": {
          "base_uri": "https://localhost:8080/",
          "height": 725
        },
        "outputId": "76fa2f4b-abf2-41cb-b140-683702ed6ca2"
      },
      "execution_count": 31,
      "outputs": [
        {
          "output_type": "display_data",
          "data": {
            "text/plain": [
              "<Figure size 1600x800 with 0 Axes>"
            ]
          },
          "metadata": {}
        },
        {
          "output_type": "display_data",
          "data": {
            "text/plain": [
              "<Figure size 1100x900 with 5 Axes>"
            ],
            "image/png": "[encoded data removed]"
          },
          "metadata": {}
        }
      ]
    },
    {
      "cell_type": "markdown",
      "source": [
        "Dengan Coding diatas, akan dihasilkan beberapa plot dalam satu gambar. Setiap plot mewakili kolom yang ditentukan, yaitu 'Open', 'Close', 'Volume', 'High', dan 'Low'\n",
        "> PPada data harga pembukaan (Open), harga penutupan (Close), harga tertinggi (High), dan harga terendah (Low), terlihat bahwa terdapat tren naik karena grafiknya menunjukkan pergerakan yang semakin meningkat. Sebaliknya, pada data jumlah transaksi saham (Volume), terlihat bahwa datanya cenderung stationer (naik turun)\n",
        "\n",
        "\n",
        "\n",
        "---\n",
        "\n"
      ],
      "metadata": {
        "id": "4NUm1dv5ejDb"
      }
    },
    {
      "cell_type": "code",
      "source": [
        "train_data['HL_PCT'] = (train_data['High'] - train_data['Low']) / train_data['Low'] * 100.0\n",
        "train_data['PCT_change'] = (train_data['Close'] - train_data['Open']) / train_data['Open'] * 100.0"
      ],
      "metadata": {
        "id": "AfhNMGBi-qaC"
      },
      "execution_count": 32,
      "outputs": []
    },
    {
      "cell_type": "markdown",
      "source": [
        "Selanjutnya, kita membuat fitur baru untuk nantinya dimasukkan ke dalam dataset kita.\n",
        "1.  Coding pertama digunakan untuk membagi selisih harga dengan harga terendah, kemudian dikalikan dengan 100. Hasilnya disimpan dalam kolom baru dengan nama 'HL_PCT'.\n",
        "2.  Coding kedua digunakan untuk membagi selisih harga dengan harga pembukaan, kemudian dikalikan dengan 100.0. Hasilnya disimpan dalam kolom baru dengan nama 'PCT_change'.\n",
        "\n",
        "\n",
        "---\n",
        "\n"
      ],
      "metadata": {
        "id": "y6QXs8GifRNd"
      }
    },
    {
      "cell_type": "code",
      "source": [
        "df = train_data[['HL_PCT', 'PCT_change', 'Adj Close','Volume']]"
      ],
      "metadata": {
        "id": "Tpr_qGGBpW_O"
      },
      "execution_count": 33,
      "outputs": []
    },
    {
      "cell_type": "markdown",
      "source": [
        "Coding tersebut digunakan untuk membuat DataFrame baru yang terdiri dari kolom-kolom 'HL_PCT', 'PCT_change', 'Adj Close', dan 'Volume' dari DataFrame.\n",
        "\n",
        "\n",
        "---\n",
        "\n"
      ],
      "metadata": {
        "id": "cVff-msigQ6p"
      }
    },
    {
      "cell_type": "code",
      "source": [
        "forecast_out = int(math.ceil(0.05 * len(df))) # forcasting out 5% of the entire dataset\n",
        "print(forecast_out)\n",
        "df['label'] = df['Adj Close'].shift(-forecast_out)"
      ],
      "metadata": {
        "colab": {
          "base_uri": "https://localhost:8080/"
        },
        "id": "byohkejgqUxI",
        "outputId": "55c13b4e-8af4-4b99-a87e-d5468728c311"
      },
      "execution_count": 34,
      "outputs": [
        {
          "output_type": "stream",
          "name": "stdout",
          "text": [
            "88\n"
          ]
        },
        {
          "output_type": "stream",
          "name": "stderr",
          "text": [
            "<ipython-input-34-8a15e8de9d0b>:3: SettingWithCopyWarning: \n",
            "A value is trying to be set on a copy of a slice from a DataFrame.\n",
            "Try using .loc[row_indexer,col_indexer] = value instead\n",
            "\n",
            "See the caveats in the documentation: https://pandas.pydata.org/pandas-docs/stable/user_guide/indexing.html#returning-a-view-versus-a-copy\n",
            "  df['label'] = df['Adj Close'].shift(-forecast_out)\n"
          ]
        }
      ]
    },
    {
      "cell_type": "markdown",
      "source": [
        "1.   Coding pertama digunakan untuk menghitung jumlah baris yang akan diprediksi dengan mengalikan 5% dengan jumlah baris DataFrame. Hasilnya dibulatkan ke atas menggunakan fungsi math.ceil() dan disimpan dalam variabel forecast_out.\n",
        "2.   Coding kedua digunakan untuk membuat kolom baru dengan nama 'label' dalam DataFrame. Nilai pada kolom 'label' diperoleh dengan menggeser (shift) nilai-nilai dari kolom 'Adj Close' ke atas sebanyak forecast_out baris.\n",
        "\n",
        "Tujuan dari coding tersebut adalah untuk melakukan prediksi nilai 'Adj Close' beberapa periode ke depan berdasarkan data historis yang ada.\n",
        "\n",
        "\n",
        "---\n",
        "\n"
      ],
      "metadata": {
        "id": "Yxd1vcmPimc8"
      }
    },
    {
      "cell_type": "code",
      "source": [
        "from sklearn.preprocessing import StandardScaler\n",
        "from sklearn.linear_model import LinearRegression, Ridge\n",
        "from sklearn.ensemble import RandomForestRegressor\n",
        "from sklearn.svm import SVR\n",
        "from sklearn.model_selection import train_test_split\n",
        "from sklearn.metrics import mean_squared_log_error"
      ],
      "metadata": {
        "id": "irMFwvfUQfkX"
      },
      "execution_count": 35,
      "outputs": []
    },
    {
      "cell_type": "markdown",
      "source": [
        "Dengan menggunakan coding-coding tersebut, kita mengimpor pustaka-pustaka yang dibutuhkan untuk melakukan berbagai tahap dalam analisis data regresi.\n",
        "\n",
        "1. StandardScaler digunakan untuk melakukan penskalaan fitur.\n",
        "2. LinearRegression dan Ridge digunakan untuk melakukan prediksi berdasarkan hubungan linear antara fitur dan target.\n",
        "3. RandomForestRegressor adalah kumpulan pohon keputusan (decision tree) untuk melakukan prediksi.\n",
        "4. SVR adalah model regresi yang menggunakan metode Support Vector Machines (SVM) untuk melakukan prediksi.\n",
        "5. train_test_split digunakan untuk membagi dataset menjadi subset train dan test, yang akan digunakan untuk melatih dan mengevaluasi model.\n",
        "6. mean_squared_log_error digunakan untuk mengukur kesalahan atau error prediksi pada data.\n",
        "---\n",
        "\n"
      ],
      "metadata": {
        "id": "wjezRQZrlbip"
      }
    },
    {
      "cell_type": "markdown",
      "source": [
        "It’s clear from the plot that there is an overall increase in the trend,with some seasonality in it."
      ],
      "metadata": {
        "id": "CEWA8nGgDCfG"
      }
    },
    {
      "cell_type": "markdown",
      "source": [
        "Coding standardscaler digunakan untuk menormalisasikan data, karena data yang digunakan berbeda dan memiliki interval yang besar. Oleh karena itu diperlukan normalisasi untuk mempercepat training dan mengurangi bias."
      ],
      "metadata": {
        "id": "oLJtWeexWZKS"
      }
    },
    {
      "cell_type": "code",
      "source": [
        "scaler = StandardScaler()\n",
        "X = np.array(df.drop(['label'], 1))\n",
        "scaler.fit(X)\n",
        "X = scaler.transform(X)"
      ],
      "metadata": {
        "id": "mpgmCvavV8oD",
        "colab": {
          "base_uri": "https://localhost:8080/"
        },
        "outputId": "46cafe92-fdd8-4b9a-c26f-f39129233a77"
      },
      "execution_count": 36,
      "outputs": [
        {
          "output_type": "stream",
          "name": "stderr",
          "text": [
            "<ipython-input-36-7ce179678b12>:2: FutureWarning: In a future version of pandas all arguments of DataFrame.drop except for the argument 'labels' will be keyword-only.\n",
            "  X = np.array(df.drop(['label'], 1))\n"
          ]
        }
      ]
    },
    {
      "cell_type": "markdown",
      "source": [
        "*   Pertama, kita membuat sebuah objek scaler yang akan digunakan untuk melakukan penskalaan.\n",
        "*   Kemudian, kita mengambil nilai-nilai fitur dari DataFrame df dan menyimpannya dalam array X. Dalam proses ini, kolom 'label' dihilangkan karena kita hanya ingin mengambil fitur-fitur yang akan digunakan dalam pemodelan.\n",
        "*   Selanjutnya, kita melakukan fitting (penyesuaian) objek scaler ke data fitur X. Dalam tahap ini, kita menghitung mean dan standar deviasi dari setiap fitur dalam data, yang akan digunakan dalam proses penskalaan.\n",
        "*   Terakhir, kita mentransformasikan (mengubah) data fitur X menggunakan objek scaler. Dalam proses ini, nilai-nilai fitur diubah dengan menggunakan mean dan standar deviasi yang telah dihitung sebelumnya.\n",
        "\n",
        "\n",
        "---\n",
        "\n"
      ],
      "metadata": {
        "id": "jja_Jf71ttjl"
      }
    },
    {
      "cell_type": "code",
      "source": [
        "X_Predictions = X[-forecast_out:] # data to be predicted\n",
        "X = X[:-forecast_out] # data to be trained"
      ],
      "metadata": {
        "id": "ClQ0ncGKDYqg"
      },
      "execution_count": 37,
      "outputs": []
    },
    {
      "cell_type": "markdown",
      "source": [
        "Coding diatas digunakan untuk membagi data fitur menjadi dua bagian, yaitu data yang akan diprediksi dan data yang akan digunakan untuk *trained*.\n",
        "\n",
        "\n",
        "---\n",
        "\n"
      ],
      "metadata": {
        "id": "Y8Lbl9a9uxKB"
      }
    },
    {
      "cell_type": "code",
      "source": [
        "df.dropna(inplace=True)\n",
        "y = np.array(df['label'])"
      ],
      "metadata": {
        "colab": {
          "base_uri": "https://localhost:8080/"
        },
        "id": "wG1mOmKuV_Te",
        "outputId": "590da942-8a83-43b2-a712-21d62c6b4404"
      },
      "execution_count": 38,
      "outputs": [
        {
          "output_type": "stream",
          "name": "stderr",
          "text": [
            "<ipython-input-38-c3da9adb30d1>:1: SettingWithCopyWarning: \n",
            "A value is trying to be set on a copy of a slice from a DataFrame\n",
            "\n",
            "See the caveats in the documentation: https://pandas.pydata.org/pandas-docs/stable/user_guide/indexing.html#returning-a-view-versus-a-copy\n",
            "  df.dropna(inplace=True)\n"
          ]
        }
      ]
    },
    {
      "cell_type": "markdown",
      "source": [
        "Dengan me-*running* coding tersebut, kita memastikan bahwa data yang memiliki nilai null telah dihapus dan kita memiliki array y yang berisi target yang sesuai dengan data fitur X.\n",
        "\n",
        "\n",
        "---\n",
        "\n"
      ],
      "metadata": {
        "id": "ERO_ZvHzv-iI"
      }
    },
    {
      "cell_type": "code",
      "source": [
        "X_train, X_test, y_train, y_test = train_test_split(X, y, test_size=0.2, random_state=42)"
      ],
      "metadata": {
        "id": "8D31iOX2EVAA"
      },
      "execution_count": 39,
      "outputs": []
    },
    {
      "cell_type": "markdown",
      "source": [
        "Coding di atas digunakan untuk membagi data fitur (X) dan target (y) menjadi *train data* (X_train dan y_train) serta data uji (X_test dan y_test), dengan menggunakan fungsi train_test_split dari pustaka sklearn.model_selection\n",
        "\n",
        "\n",
        "---\n",
        "\n"
      ],
      "metadata": {
        "id": "4IWQIkSBxejO"
      }
    },
    {
      "cell_type": "code",
      "source": [
        "lr = LinearRegression()\n",
        "lr.fit(X_train, y_train)\n",
        "lr_confidence = lr.score(X_test, y_test)"
      ],
      "metadata": {
        "id": "yQXA0ZBuFLKW"
      },
      "execution_count": 40,
      "outputs": []
    },
    {
      "cell_type": "markdown",
      "source": [
        "Dalam coding diatas, kita menggunakan model regresi linear (LinearRegression) untuk training data train (X_train dan y_train) sehingga model dapat belajar pola-pola dalam data tersebut.\n",
        "\n",
        "Setelah training model, kita menggunakan data uji (X_test dan y_test) untuk mengevaluasi seberapa baik model kita dalam memprediksi nilai target pada data yang belum pernah dilihat sebelumnya.\n",
        "\n",
        "\n",
        "---\n",
        "\n"
      ],
      "metadata": {
        "id": "ZYNhqLCpz4Nz"
      }
    },
    {
      "cell_type": "code",
      "source": [
        "lr_confidence"
      ],
      "metadata": {
        "colab": {
          "base_uri": "https://localhost:8080/"
        },
        "id": "pK5vOlZ-jVld",
        "outputId": "9ef088f7-08d3-473f-824c-ee2e08a7ba17"
      },
      "execution_count": 41,
      "outputs": [
        {
          "output_type": "execute_result",
          "data": {
            "text/plain": [
              "0.918746611256229"
            ]
          },
          "metadata": {},
          "execution_count": 41
        }
      ]
    },
    {
      "cell_type": "markdown",
      "source": [
        "Ir_confidence digunakan untuk memanggil nilai koefisien determinasi dari model regresi linear terhadap data uji. Nilai ini mengindikasikan sejauh mana model dapat menjelaskan variasi dalam data uji. Semakin tinggi nilai lr_confidence (mendekati 1), semakin baik kinerja model dalam memprediksi nilai target dari data uji.\n",
        "\n",
        "Didapatkan nilai 'lr.confidence' atau skor performa model regresi linear sebesar 0,919 atau 91,9%. yang berarti data train memiliki kemampuan yang baik dalam menjelaskan variasi dan memberikan prediksi yang akurat.\n",
        "\n",
        "---\n",
        "\n"
      ],
      "metadata": {
        "id": "Y2vzRVgi0OnK"
      }
    },
    {
      "cell_type": "code",
      "source": [
        "rf = RandomForestRegressor()\n",
        "rf.fit(X_train, y_train)\n",
        "rf_confidence = rf.score(X_test, y_test)"
      ],
      "metadata": {
        "id": "VLP373_GFaKk"
      },
      "execution_count": 42,
      "outputs": []
    },
    {
      "cell_type": "markdown",
      "source": [
        "Dalam coding di atas, kita menggunakan model regresi acak (RandomForestRegressor) untuk training data train (X_train dan y_train) menggunakan metode fit(). Random forest merupakan model penjabaran dari linear regresi yang sistemnya menyeleksi model terbaik yang dipilih untuk *training and testing model*.\n",
        "\n",
        "Setelah training model, kita menggunakan data uji (X_test dan y_test) untuk melakukan evaluasi menggunakan metode score().\n",
        "\n",
        "\n",
        "---\n",
        "\n"
      ],
      "metadata": {
        "id": "sQtxMuGF0709"
      }
    },
    {
      "cell_type": "code",
      "source": [
        "rf_confidence"
      ],
      "metadata": {
        "colab": {
          "base_uri": "https://localhost:8080/"
        },
        "id": "tjxiX_mrjXZi",
        "outputId": "5b6b9813-820f-44f4-e49f-da783d28176e"
      },
      "execution_count": 43,
      "outputs": [
        {
          "output_type": "execute_result",
          "data": {
            "text/plain": [
              "0.986764689604881"
            ]
          },
          "metadata": {},
          "execution_count": 43
        }
      ]
    },
    {
      "cell_type": "markdown",
      "source": [
        "rf_confidence adalah variabel yang menyimpan nilai koefisien determinasi dari model regresi acak (RandomForestRegressor) terhadap data uji. Perintah ini memiliki fungsi dan indikasi yang sama seperti Ir_confidence.\n",
        "\n",
        "Didapatkan nilai 'rf_confidence' atau skor performa model Random Forest sebesar 0,987 atau 98,7%. yang berarti data train memiliki kemampuan yang sangat baik dalam menjelaskan variasi dan memberikan prediksi yang akurat\n",
        "\n",
        "---\n",
        "\n"
      ],
      "metadata": {
        "id": "q4QAG4cv1Qju"
      }
    },
    {
      "cell_type": "code",
      "source": [
        "last_date = df.index[-1] #getting the lastdate in the dataset\n",
        "last_unix = last_date.timestamp() #converting it to time in seconds\n",
        "one_day = 86400 #one day equals 86400 seconds\n",
        "next_unix = last_unix + one_day # getting the time in seconds for the next day\n",
        "forecast_set = rf.predict(X_Predictions) # predicting forecast data\n",
        "df['Forecast'] = np.nan\n",
        "for i in forecast_set:\n",
        "    next_date = datetime.datetime.fromtimestamp(next_unix)\n",
        "    next_unix += 86400\n",
        "    df.loc[next_date] = [np.nan for _ in range(len(df.columns)-1)]+[i]"
      ],
      "metadata": {
        "colab": {
          "base_uri": "https://localhost:8080/"
        },
        "id": "3B4Ln3KaWKYP",
        "outputId": "700b6d44-76e4-42cf-bc71-1779abb1bb3c"
      },
      "execution_count": 44,
      "outputs": [
        {
          "output_type": "stream",
          "name": "stderr",
          "text": [
            "<ipython-input-44-3eb2aa88d409>:6: SettingWithCopyWarning: \n",
            "A value is trying to be set on a copy of a slice from a DataFrame.\n",
            "Try using .loc[row_indexer,col_indexer] = value instead\n",
            "\n",
            "See the caveats in the documentation: https://pandas.pydata.org/pandas-docs/stable/user_guide/indexing.html#returning-a-view-versus-a-copy\n",
            "  df['Forecast'] = np.nan\n",
            "<ipython-input-44-3eb2aa88d409>:10: SettingWithCopyWarning: \n",
            "A value is trying to be set on a copy of a slice from a DataFrame\n",
            "\n",
            "See the caveats in the documentation: https://pandas.pydata.org/pandas-docs/stable/user_guide/indexing.html#returning-a-view-versus-a-copy\n",
            "  df.loc[next_date] = [np.nan for _ in range(len(df.columns)-1)]+[i]\n",
            "<ipython-input-44-3eb2aa88d409>:10: SettingWithCopyWarning: \n",
            "A value is trying to be set on a copy of a slice from a DataFrame\n",
            "\n",
            "See the caveats in the documentation: https://pandas.pydata.org/pandas-docs/stable/user_guide/indexing.html#returning-a-view-versus-a-copy\n",
            "  df.loc[next_date] = [np.nan for _ in range(len(df.columns)-1)]+[i]\n",
            "<ipython-input-44-3eb2aa88d409>:10: SettingWithCopyWarning: \n",
            "A value is trying to be set on a copy of a slice from a DataFrame\n",
            "\n",
            "See the caveats in the documentation: https://pandas.pydata.org/pandas-docs/stable/user_guide/indexing.html#returning-a-view-versus-a-copy\n",
            "  df.loc[next_date] = [np.nan for _ in range(len(df.columns)-1)]+[i]\n",
            "<ipython-input-44-3eb2aa88d409>:10: SettingWithCopyWarning: \n",
            "A value is trying to be set on a copy of a slice from a DataFrame\n",
            "\n",
            "See the caveats in the documentation: https://pandas.pydata.org/pandas-docs/stable/user_guide/indexing.html#returning-a-view-versus-a-copy\n",
            "  df.loc[next_date] = [np.nan for _ in range(len(df.columns)-1)]+[i]\n",
            "<ipython-input-44-3eb2aa88d409>:10: SettingWithCopyWarning: \n",
            "A value is trying to be set on a copy of a slice from a DataFrame\n",
            "\n",
            "See the caveats in the documentation: https://pandas.pydata.org/pandas-docs/stable/user_guide/indexing.html#returning-a-view-versus-a-copy\n",
            "  df.loc[next_date] = [np.nan for _ in range(len(df.columns)-1)]+[i]\n",
            "<ipython-input-44-3eb2aa88d409>:10: SettingWithCopyWarning: \n",
            "A value is trying to be set on a copy of a slice from a DataFrame\n",
            "\n",
            "See the caveats in the documentation: https://pandas.pydata.org/pandas-docs/stable/user_guide/indexing.html#returning-a-view-versus-a-copy\n",
            "  df.loc[next_date] = [np.nan for _ in range(len(df.columns)-1)]+[i]\n",
            "<ipython-input-44-3eb2aa88d409>:10: SettingWithCopyWarning: \n",
            "A value is trying to be set on a copy of a slice from a DataFrame\n",
            "\n",
            "See the caveats in the documentation: https://pandas.pydata.org/pandas-docs/stable/user_guide/indexing.html#returning-a-view-versus-a-copy\n",
            "  df.loc[next_date] = [np.nan for _ in range(len(df.columns)-1)]+[i]\n",
            "<ipython-input-44-3eb2aa88d409>:10: SettingWithCopyWarning: \n",
            "A value is trying to be set on a copy of a slice from a DataFrame\n",
            "\n",
            "See the caveats in the documentation: https://pandas.pydata.org/pandas-docs/stable/user_guide/indexing.html#returning-a-view-versus-a-copy\n",
            "  df.loc[next_date] = [np.nan for _ in range(len(df.columns)-1)]+[i]\n",
            "<ipython-input-44-3eb2aa88d409>:10: SettingWithCopyWarning: \n",
            "A value is trying to be set on a copy of a slice from a DataFrame\n",
            "\n",
            "See the caveats in the documentation: https://pandas.pydata.org/pandas-docs/stable/user_guide/indexing.html#returning-a-view-versus-a-copy\n",
            "  df.loc[next_date] = [np.nan for _ in range(len(df.columns)-1)]+[i]\n",
            "<ipython-input-44-3eb2aa88d409>:10: SettingWithCopyWarning: \n",
            "A value is trying to be set on a copy of a slice from a DataFrame\n",
            "\n",
            "See the caveats in the documentation: https://pandas.pydata.org/pandas-docs/stable/user_guide/indexing.html#returning-a-view-versus-a-copy\n",
            "  df.loc[next_date] = [np.nan for _ in range(len(df.columns)-1)]+[i]\n",
            "<ipython-input-44-3eb2aa88d409>:10: SettingWithCopyWarning: \n",
            "A value is trying to be set on a copy of a slice from a DataFrame\n",
            "\n",
            "See the caveats in the documentation: https://pandas.pydata.org/pandas-docs/stable/user_guide/indexing.html#returning-a-view-versus-a-copy\n",
            "  df.loc[next_date] = [np.nan for _ in range(len(df.columns)-1)]+[i]\n",
            "<ipython-input-44-3eb2aa88d409>:10: SettingWithCopyWarning: \n",
            "A value is trying to be set on a copy of a slice from a DataFrame\n",
            "\n",
            "See the caveats in the documentation: https://pandas.pydata.org/pandas-docs/stable/user_guide/indexing.html#returning-a-view-versus-a-copy\n",
            "  df.loc[next_date] = [np.nan for _ in range(len(df.columns)-1)]+[i]\n",
            "<ipython-input-44-3eb2aa88d409>:10: SettingWithCopyWarning: \n",
            "A value is trying to be set on a copy of a slice from a DataFrame\n",
            "\n",
            "See the caveats in the documentation: https://pandas.pydata.org/pandas-docs/stable/user_guide/indexing.html#returning-a-view-versus-a-copy\n",
            "  df.loc[next_date] = [np.nan for _ in range(len(df.columns)-1)]+[i]\n",
            "<ipython-input-44-3eb2aa88d409>:10: SettingWithCopyWarning: \n",
            "A value is trying to be set on a copy of a slice from a DataFrame\n",
            "\n",
            "See the caveats in the documentation: https://pandas.pydata.org/pandas-docs/stable/user_guide/indexing.html#returning-a-view-versus-a-copy\n",
            "  df.loc[next_date] = [np.nan for _ in range(len(df.columns)-1)]+[i]\n",
            "<ipython-input-44-3eb2aa88d409>:10: SettingWithCopyWarning: \n",
            "A value is trying to be set on a copy of a slice from a DataFrame\n",
            "\n",
            "See the caveats in the documentation: https://pandas.pydata.org/pandas-docs/stable/user_guide/indexing.html#returning-a-view-versus-a-copy\n",
            "  df.loc[next_date] = [np.nan for _ in range(len(df.columns)-1)]+[i]\n",
            "<ipython-input-44-3eb2aa88d409>:10: SettingWithCopyWarning: \n",
            "A value is trying to be set on a copy of a slice from a DataFrame\n",
            "\n",
            "See the caveats in the documentation: https://pandas.pydata.org/pandas-docs/stable/user_guide/indexing.html#returning-a-view-versus-a-copy\n",
            "  df.loc[next_date] = [np.nan for _ in range(len(df.columns)-1)]+[i]\n",
            "<ipython-input-44-3eb2aa88d409>:10: SettingWithCopyWarning: \n",
            "A value is trying to be set on a copy of a slice from a DataFrame\n",
            "\n",
            "See the caveats in the documentation: https://pandas.pydata.org/pandas-docs/stable/user_guide/indexing.html#returning-a-view-versus-a-copy\n",
            "  df.loc[next_date] = [np.nan for _ in range(len(df.columns)-1)]+[i]\n",
            "<ipython-input-44-3eb2aa88d409>:10: SettingWithCopyWarning: \n",
            "A value is trying to be set on a copy of a slice from a DataFrame\n",
            "\n",
            "See the caveats in the documentation: https://pandas.pydata.org/pandas-docs/stable/user_guide/indexing.html#returning-a-view-versus-a-copy\n",
            "  df.loc[next_date] = [np.nan for _ in range(len(df.columns)-1)]+[i]\n",
            "<ipython-input-44-3eb2aa88d409>:10: SettingWithCopyWarning: \n",
            "A value is trying to be set on a copy of a slice from a DataFrame\n",
            "\n",
            "See the caveats in the documentation: https://pandas.pydata.org/pandas-docs/stable/user_guide/indexing.html#returning-a-view-versus-a-copy\n",
            "  df.loc[next_date] = [np.nan for _ in range(len(df.columns)-1)]+[i]\n",
            "<ipython-input-44-3eb2aa88d409>:10: SettingWithCopyWarning: \n",
            "A value is trying to be set on a copy of a slice from a DataFrame\n",
            "\n",
            "See the caveats in the documentation: https://pandas.pydata.org/pandas-docs/stable/user_guide/indexing.html#returning-a-view-versus-a-copy\n",
            "  df.loc[next_date] = [np.nan for _ in range(len(df.columns)-1)]+[i]\n",
            "<ipython-input-44-3eb2aa88d409>:10: SettingWithCopyWarning: \n",
            "A value is trying to be set on a copy of a slice from a DataFrame\n",
            "\n",
            "See the caveats in the documentation: https://pandas.pydata.org/pandas-docs/stable/user_guide/indexing.html#returning-a-view-versus-a-copy\n",
            "  df.loc[next_date] = [np.nan for _ in range(len(df.columns)-1)]+[i]\n",
            "<ipython-input-44-3eb2aa88d409>:10: SettingWithCopyWarning: \n",
            "A value is trying to be set on a copy of a slice from a DataFrame\n",
            "\n",
            "See the caveats in the documentation: https://pandas.pydata.org/pandas-docs/stable/user_guide/indexing.html#returning-a-view-versus-a-copy\n",
            "  df.loc[next_date] = [np.nan for _ in range(len(df.columns)-1)]+[i]\n",
            "<ipython-input-44-3eb2aa88d409>:10: SettingWithCopyWarning: \n",
            "A value is trying to be set on a copy of a slice from a DataFrame\n",
            "\n",
            "See the caveats in the documentation: https://pandas.pydata.org/pandas-docs/stable/user_guide/indexing.html#returning-a-view-versus-a-copy\n",
            "  df.loc[next_date] = [np.nan for _ in range(len(df.columns)-1)]+[i]\n",
            "<ipython-input-44-3eb2aa88d409>:10: SettingWithCopyWarning: \n",
            "A value is trying to be set on a copy of a slice from a DataFrame\n",
            "\n",
            "See the caveats in the documentation: https://pandas.pydata.org/pandas-docs/stable/user_guide/indexing.html#returning-a-view-versus-a-copy\n",
            "  df.loc[next_date] = [np.nan for _ in range(len(df.columns)-1)]+[i]\n",
            "<ipython-input-44-3eb2aa88d409>:10: SettingWithCopyWarning: \n",
            "A value is trying to be set on a copy of a slice from a DataFrame\n",
            "\n",
            "See the caveats in the documentation: https://pandas.pydata.org/pandas-docs/stable/user_guide/indexing.html#returning-a-view-versus-a-copy\n",
            "  df.loc[next_date] = [np.nan for _ in range(len(df.columns)-1)]+[i]\n",
            "<ipython-input-44-3eb2aa88d409>:10: SettingWithCopyWarning: \n",
            "A value is trying to be set on a copy of a slice from a DataFrame\n",
            "\n",
            "See the caveats in the documentation: https://pandas.pydata.org/pandas-docs/stable/user_guide/indexing.html#returning-a-view-versus-a-copy\n",
            "  df.loc[next_date] = [np.nan for _ in range(len(df.columns)-1)]+[i]\n",
            "<ipython-input-44-3eb2aa88d409>:10: SettingWithCopyWarning: \n",
            "A value is trying to be set on a copy of a slice from a DataFrame\n",
            "\n",
            "See the caveats in the documentation: https://pandas.pydata.org/pandas-docs/stable/user_guide/indexing.html#returning-a-view-versus-a-copy\n",
            "  df.loc[next_date] = [np.nan for _ in range(len(df.columns)-1)]+[i]\n",
            "<ipython-input-44-3eb2aa88d409>:10: SettingWithCopyWarning: \n",
            "A value is trying to be set on a copy of a slice from a DataFrame\n",
            "\n",
            "See the caveats in the documentation: https://pandas.pydata.org/pandas-docs/stable/user_guide/indexing.html#returning-a-view-versus-a-copy\n",
            "  df.loc[next_date] = [np.nan for _ in range(len(df.columns)-1)]+[i]\n",
            "<ipython-input-44-3eb2aa88d409>:10: SettingWithCopyWarning: \n",
            "A value is trying to be set on a copy of a slice from a DataFrame\n",
            "\n",
            "See the caveats in the documentation: https://pandas.pydata.org/pandas-docs/stable/user_guide/indexing.html#returning-a-view-versus-a-copy\n",
            "  df.loc[next_date] = [np.nan for _ in range(len(df.columns)-1)]+[i]\n",
            "<ipython-input-44-3eb2aa88d409>:10: SettingWithCopyWarning: \n",
            "A value is trying to be set on a copy of a slice from a DataFrame\n",
            "\n",
            "See the caveats in the documentation: https://pandas.pydata.org/pandas-docs/stable/user_guide/indexing.html#returning-a-view-versus-a-copy\n",
            "  df.loc[next_date] = [np.nan for _ in range(len(df.columns)-1)]+[i]\n",
            "<ipython-input-44-3eb2aa88d409>:10: SettingWithCopyWarning: \n",
            "A value is trying to be set on a copy of a slice from a DataFrame\n",
            "\n",
            "See the caveats in the documentation: https://pandas.pydata.org/pandas-docs/stable/user_guide/indexing.html#returning-a-view-versus-a-copy\n",
            "  df.loc[next_date] = [np.nan for _ in range(len(df.columns)-1)]+[i]\n",
            "<ipython-input-44-3eb2aa88d409>:10: SettingWithCopyWarning: \n",
            "A value is trying to be set on a copy of a slice from a DataFrame\n",
            "\n",
            "See the caveats in the documentation: https://pandas.pydata.org/pandas-docs/stable/user_guide/indexing.html#returning-a-view-versus-a-copy\n",
            "  df.loc[next_date] = [np.nan for _ in range(len(df.columns)-1)]+[i]\n",
            "<ipython-input-44-3eb2aa88d409>:10: SettingWithCopyWarning: \n",
            "A value is trying to be set on a copy of a slice from a DataFrame\n",
            "\n",
            "See the caveats in the documentation: https://pandas.pydata.org/pandas-docs/stable/user_guide/indexing.html#returning-a-view-versus-a-copy\n",
            "  df.loc[next_date] = [np.nan for _ in range(len(df.columns)-1)]+[i]\n",
            "<ipython-input-44-3eb2aa88d409>:10: SettingWithCopyWarning: \n",
            "A value is trying to be set on a copy of a slice from a DataFrame\n",
            "\n",
            "See the caveats in the documentation: https://pandas.pydata.org/pandas-docs/stable/user_guide/indexing.html#returning-a-view-versus-a-copy\n",
            "  df.loc[next_date] = [np.nan for _ in range(len(df.columns)-1)]+[i]\n",
            "<ipython-input-44-3eb2aa88d409>:10: SettingWithCopyWarning: \n",
            "A value is trying to be set on a copy of a slice from a DataFrame\n",
            "\n",
            "See the caveats in the documentation: https://pandas.pydata.org/pandas-docs/stable/user_guide/indexing.html#returning-a-view-versus-a-copy\n",
            "  df.loc[next_date] = [np.nan for _ in range(len(df.columns)-1)]+[i]\n",
            "<ipython-input-44-3eb2aa88d409>:10: SettingWithCopyWarning: \n",
            "A value is trying to be set on a copy of a slice from a DataFrame\n",
            "\n",
            "See the caveats in the documentation: https://pandas.pydata.org/pandas-docs/stable/user_guide/indexing.html#returning-a-view-versus-a-copy\n",
            "  df.loc[next_date] = [np.nan for _ in range(len(df.columns)-1)]+[i]\n",
            "<ipython-input-44-3eb2aa88d409>:10: SettingWithCopyWarning: \n",
            "A value is trying to be set on a copy of a slice from a DataFrame\n",
            "\n",
            "See the caveats in the documentation: https://pandas.pydata.org/pandas-docs/stable/user_guide/indexing.html#returning-a-view-versus-a-copy\n",
            "  df.loc[next_date] = [np.nan for _ in range(len(df.columns)-1)]+[i]\n",
            "<ipython-input-44-3eb2aa88d409>:10: SettingWithCopyWarning: \n",
            "A value is trying to be set on a copy of a slice from a DataFrame\n",
            "\n",
            "See the caveats in the documentation: https://pandas.pydata.org/pandas-docs/stable/user_guide/indexing.html#returning-a-view-versus-a-copy\n",
            "  df.loc[next_date] = [np.nan for _ in range(len(df.columns)-1)]+[i]\n",
            "<ipython-input-44-3eb2aa88d409>:10: SettingWithCopyWarning: \n",
            "A value is trying to be set on a copy of a slice from a DataFrame\n",
            "\n",
            "See the caveats in the documentation: https://pandas.pydata.org/pandas-docs/stable/user_guide/indexing.html#returning-a-view-versus-a-copy\n",
            "  df.loc[next_date] = [np.nan for _ in range(len(df.columns)-1)]+[i]\n",
            "<ipython-input-44-3eb2aa88d409>:10: SettingWithCopyWarning: \n",
            "A value is trying to be set on a copy of a slice from a DataFrame\n",
            "\n",
            "See the caveats in the documentation: https://pandas.pydata.org/pandas-docs/stable/user_guide/indexing.html#returning-a-view-versus-a-copy\n",
            "  df.loc[next_date] = [np.nan for _ in range(len(df.columns)-1)]+[i]\n",
            "<ipython-input-44-3eb2aa88d409>:10: SettingWithCopyWarning: \n",
            "A value is trying to be set on a copy of a slice from a DataFrame\n",
            "\n",
            "See the caveats in the documentation: https://pandas.pydata.org/pandas-docs/stable/user_guide/indexing.html#returning-a-view-versus-a-copy\n",
            "  df.loc[next_date] = [np.nan for _ in range(len(df.columns)-1)]+[i]\n",
            "<ipython-input-44-3eb2aa88d409>:10: SettingWithCopyWarning: \n",
            "A value is trying to be set on a copy of a slice from a DataFrame\n",
            "\n",
            "See the caveats in the documentation: https://pandas.pydata.org/pandas-docs/stable/user_guide/indexing.html#returning-a-view-versus-a-copy\n",
            "  df.loc[next_date] = [np.nan for _ in range(len(df.columns)-1)]+[i]\n",
            "<ipython-input-44-3eb2aa88d409>:10: SettingWithCopyWarning: \n",
            "A value is trying to be set on a copy of a slice from a DataFrame\n",
            "\n",
            "See the caveats in the documentation: https://pandas.pydata.org/pandas-docs/stable/user_guide/indexing.html#returning-a-view-versus-a-copy\n",
            "  df.loc[next_date] = [np.nan for _ in range(len(df.columns)-1)]+[i]\n",
            "<ipython-input-44-3eb2aa88d409>:10: SettingWithCopyWarning: \n",
            "A value is trying to be set on a copy of a slice from a DataFrame\n",
            "\n",
            "See the caveats in the documentation: https://pandas.pydata.org/pandas-docs/stable/user_guide/indexing.html#returning-a-view-versus-a-copy\n",
            "  df.loc[next_date] = [np.nan for _ in range(len(df.columns)-1)]+[i]\n",
            "<ipython-input-44-3eb2aa88d409>:10: SettingWithCopyWarning: \n",
            "A value is trying to be set on a copy of a slice from a DataFrame\n",
            "\n",
            "See the caveats in the documentation: https://pandas.pydata.org/pandas-docs/stable/user_guide/indexing.html#returning-a-view-versus-a-copy\n",
            "  df.loc[next_date] = [np.nan for _ in range(len(df.columns)-1)]+[i]\n",
            "<ipython-input-44-3eb2aa88d409>:10: SettingWithCopyWarning: \n",
            "A value is trying to be set on a copy of a slice from a DataFrame\n",
            "\n",
            "See the caveats in the documentation: https://pandas.pydata.org/pandas-docs/stable/user_guide/indexing.html#returning-a-view-versus-a-copy\n",
            "  df.loc[next_date] = [np.nan for _ in range(len(df.columns)-1)]+[i]\n",
            "<ipython-input-44-3eb2aa88d409>:10: SettingWithCopyWarning: \n",
            "A value is trying to be set on a copy of a slice from a DataFrame\n",
            "\n",
            "See the caveats in the documentation: https://pandas.pydata.org/pandas-docs/stable/user_guide/indexing.html#returning-a-view-versus-a-copy\n",
            "  df.loc[next_date] = [np.nan for _ in range(len(df.columns)-1)]+[i]\n",
            "<ipython-input-44-3eb2aa88d409>:10: SettingWithCopyWarning: \n",
            "A value is trying to be set on a copy of a slice from a DataFrame\n",
            "\n",
            "See the caveats in the documentation: https://pandas.pydata.org/pandas-docs/stable/user_guide/indexing.html#returning-a-view-versus-a-copy\n",
            "  df.loc[next_date] = [np.nan for _ in range(len(df.columns)-1)]+[i]\n",
            "<ipython-input-44-3eb2aa88d409>:10: SettingWithCopyWarning: \n",
            "A value is trying to be set on a copy of a slice from a DataFrame\n",
            "\n",
            "See the caveats in the documentation: https://pandas.pydata.org/pandas-docs/stable/user_guide/indexing.html#returning-a-view-versus-a-copy\n",
            "  df.loc[next_date] = [np.nan for _ in range(len(df.columns)-1)]+[i]\n",
            "<ipython-input-44-3eb2aa88d409>:10: SettingWithCopyWarning: \n",
            "A value is trying to be set on a copy of a slice from a DataFrame\n",
            "\n",
            "See the caveats in the documentation: https://pandas.pydata.org/pandas-docs/stable/user_guide/indexing.html#returning-a-view-versus-a-copy\n",
            "  df.loc[next_date] = [np.nan for _ in range(len(df.columns)-1)]+[i]\n",
            "<ipython-input-44-3eb2aa88d409>:10: SettingWithCopyWarning: \n",
            "A value is trying to be set on a copy of a slice from a DataFrame\n",
            "\n",
            "See the caveats in the documentation: https://pandas.pydata.org/pandas-docs/stable/user_guide/indexing.html#returning-a-view-versus-a-copy\n",
            "  df.loc[next_date] = [np.nan for _ in range(len(df.columns)-1)]+[i]\n",
            "<ipython-input-44-3eb2aa88d409>:10: SettingWithCopyWarning: \n",
            "A value is trying to be set on a copy of a slice from a DataFrame\n",
            "\n",
            "See the caveats in the documentation: https://pandas.pydata.org/pandas-docs/stable/user_guide/indexing.html#returning-a-view-versus-a-copy\n",
            "  df.loc[next_date] = [np.nan for _ in range(len(df.columns)-1)]+[i]\n",
            "<ipython-input-44-3eb2aa88d409>:10: SettingWithCopyWarning: \n",
            "A value is trying to be set on a copy of a slice from a DataFrame\n",
            "\n",
            "See the caveats in the documentation: https://pandas.pydata.org/pandas-docs/stable/user_guide/indexing.html#returning-a-view-versus-a-copy\n",
            "  df.loc[next_date] = [np.nan for _ in range(len(df.columns)-1)]+[i]\n",
            "<ipython-input-44-3eb2aa88d409>:10: SettingWithCopyWarning: \n",
            "A value is trying to be set on a copy of a slice from a DataFrame\n",
            "\n",
            "See the caveats in the documentation: https://pandas.pydata.org/pandas-docs/stable/user_guide/indexing.html#returning-a-view-versus-a-copy\n",
            "  df.loc[next_date] = [np.nan for _ in range(len(df.columns)-1)]+[i]\n",
            "<ipython-input-44-3eb2aa88d409>:10: SettingWithCopyWarning: \n",
            "A value is trying to be set on a copy of a slice from a DataFrame\n",
            "\n",
            "See the caveats in the documentation: https://pandas.pydata.org/pandas-docs/stable/user_guide/indexing.html#returning-a-view-versus-a-copy\n",
            "  df.loc[next_date] = [np.nan for _ in range(len(df.columns)-1)]+[i]\n",
            "<ipython-input-44-3eb2aa88d409>:10: SettingWithCopyWarning: \n",
            "A value is trying to be set on a copy of a slice from a DataFrame\n",
            "\n",
            "See the caveats in the documentation: https://pandas.pydata.org/pandas-docs/stable/user_guide/indexing.html#returning-a-view-versus-a-copy\n",
            "  df.loc[next_date] = [np.nan for _ in range(len(df.columns)-1)]+[i]\n",
            "<ipython-input-44-3eb2aa88d409>:10: SettingWithCopyWarning: \n",
            "A value is trying to be set on a copy of a slice from a DataFrame\n",
            "\n",
            "See the caveats in the documentation: https://pandas.pydata.org/pandas-docs/stable/user_guide/indexing.html#returning-a-view-versus-a-copy\n",
            "  df.loc[next_date] = [np.nan for _ in range(len(df.columns)-1)]+[i]\n",
            "<ipython-input-44-3eb2aa88d409>:10: SettingWithCopyWarning: \n",
            "A value is trying to be set on a copy of a slice from a DataFrame\n",
            "\n",
            "See the caveats in the documentation: https://pandas.pydata.org/pandas-docs/stable/user_guide/indexing.html#returning-a-view-versus-a-copy\n",
            "  df.loc[next_date] = [np.nan for _ in range(len(df.columns)-1)]+[i]\n",
            "<ipython-input-44-3eb2aa88d409>:10: SettingWithCopyWarning: \n",
            "A value is trying to be set on a copy of a slice from a DataFrame\n",
            "\n",
            "See the caveats in the documentation: https://pandas.pydata.org/pandas-docs/stable/user_guide/indexing.html#returning-a-view-versus-a-copy\n",
            "  df.loc[next_date] = [np.nan for _ in range(len(df.columns)-1)]+[i]\n",
            "<ipython-input-44-3eb2aa88d409>:10: SettingWithCopyWarning: \n",
            "A value is trying to be set on a copy of a slice from a DataFrame\n",
            "\n",
            "See the caveats in the documentation: https://pandas.pydata.org/pandas-docs/stable/user_guide/indexing.html#returning-a-view-versus-a-copy\n",
            "  df.loc[next_date] = [np.nan for _ in range(len(df.columns)-1)]+[i]\n",
            "<ipython-input-44-3eb2aa88d409>:10: SettingWithCopyWarning: \n",
            "A value is trying to be set on a copy of a slice from a DataFrame\n",
            "\n",
            "See the caveats in the documentation: https://pandas.pydata.org/pandas-docs/stable/user_guide/indexing.html#returning-a-view-versus-a-copy\n",
            "  df.loc[next_date] = [np.nan for _ in range(len(df.columns)-1)]+[i]\n",
            "<ipython-input-44-3eb2aa88d409>:10: SettingWithCopyWarning: \n",
            "A value is trying to be set on a copy of a slice from a DataFrame\n",
            "\n",
            "See the caveats in the documentation: https://pandas.pydata.org/pandas-docs/stable/user_guide/indexing.html#returning-a-view-versus-a-copy\n",
            "  df.loc[next_date] = [np.nan for _ in range(len(df.columns)-1)]+[i]\n",
            "<ipython-input-44-3eb2aa88d409>:10: SettingWithCopyWarning: \n",
            "A value is trying to be set on a copy of a slice from a DataFrame\n",
            "\n",
            "See the caveats in the documentation: https://pandas.pydata.org/pandas-docs/stable/user_guide/indexing.html#returning-a-view-versus-a-copy\n",
            "  df.loc[next_date] = [np.nan for _ in range(len(df.columns)-1)]+[i]\n",
            "<ipython-input-44-3eb2aa88d409>:10: SettingWithCopyWarning: \n",
            "A value is trying to be set on a copy of a slice from a DataFrame\n",
            "\n",
            "See the caveats in the documentation: https://pandas.pydata.org/pandas-docs/stable/user_guide/indexing.html#returning-a-view-versus-a-copy\n",
            "  df.loc[next_date] = [np.nan for _ in range(len(df.columns)-1)]+[i]\n",
            "<ipython-input-44-3eb2aa88d409>:10: SettingWithCopyWarning: \n",
            "A value is trying to be set on a copy of a slice from a DataFrame\n",
            "\n",
            "See the caveats in the documentation: https://pandas.pydata.org/pandas-docs/stable/user_guide/indexing.html#returning-a-view-versus-a-copy\n",
            "  df.loc[next_date] = [np.nan for _ in range(len(df.columns)-1)]+[i]\n",
            "<ipython-input-44-3eb2aa88d409>:10: SettingWithCopyWarning: \n",
            "A value is trying to be set on a copy of a slice from a DataFrame\n",
            "\n",
            "See the caveats in the documentation: https://pandas.pydata.org/pandas-docs/stable/user_guide/indexing.html#returning-a-view-versus-a-copy\n",
            "  df.loc[next_date] = [np.nan for _ in range(len(df.columns)-1)]+[i]\n",
            "<ipython-input-44-3eb2aa88d409>:10: SettingWithCopyWarning: \n",
            "A value is trying to be set on a copy of a slice from a DataFrame\n",
            "\n",
            "See the caveats in the documentation: https://pandas.pydata.org/pandas-docs/stable/user_guide/indexing.html#returning-a-view-versus-a-copy\n",
            "  df.loc[next_date] = [np.nan for _ in range(len(df.columns)-1)]+[i]\n",
            "<ipython-input-44-3eb2aa88d409>:10: SettingWithCopyWarning: \n",
            "A value is trying to be set on a copy of a slice from a DataFrame\n",
            "\n",
            "See the caveats in the documentation: https://pandas.pydata.org/pandas-docs/stable/user_guide/indexing.html#returning-a-view-versus-a-copy\n",
            "  df.loc[next_date] = [np.nan for _ in range(len(df.columns)-1)]+[i]\n",
            "<ipython-input-44-3eb2aa88d409>:10: SettingWithCopyWarning: \n",
            "A value is trying to be set on a copy of a slice from a DataFrame\n",
            "\n",
            "See the caveats in the documentation: https://pandas.pydata.org/pandas-docs/stable/user_guide/indexing.html#returning-a-view-versus-a-copy\n",
            "  df.loc[next_date] = [np.nan for _ in range(len(df.columns)-1)]+[i]\n",
            "<ipython-input-44-3eb2aa88d409>:10: SettingWithCopyWarning: \n",
            "A value is trying to be set on a copy of a slice from a DataFrame\n",
            "\n",
            "See the caveats in the documentation: https://pandas.pydata.org/pandas-docs/stable/user_guide/indexing.html#returning-a-view-versus-a-copy\n",
            "  df.loc[next_date] = [np.nan for _ in range(len(df.columns)-1)]+[i]\n",
            "<ipython-input-44-3eb2aa88d409>:10: SettingWithCopyWarning: \n",
            "A value is trying to be set on a copy of a slice from a DataFrame\n",
            "\n",
            "See the caveats in the documentation: https://pandas.pydata.org/pandas-docs/stable/user_guide/indexing.html#returning-a-view-versus-a-copy\n",
            "  df.loc[next_date] = [np.nan for _ in range(len(df.columns)-1)]+[i]\n",
            "<ipython-input-44-3eb2aa88d409>:10: SettingWithCopyWarning: \n",
            "A value is trying to be set on a copy of a slice from a DataFrame\n",
            "\n",
            "See the caveats in the documentation: https://pandas.pydata.org/pandas-docs/stable/user_guide/indexing.html#returning-a-view-versus-a-copy\n",
            "  df.loc[next_date] = [np.nan for _ in range(len(df.columns)-1)]+[i]\n",
            "<ipython-input-44-3eb2aa88d409>:10: SettingWithCopyWarning: \n",
            "A value is trying to be set on a copy of a slice from a DataFrame\n",
            "\n",
            "See the caveats in the documentation: https://pandas.pydata.org/pandas-docs/stable/user_guide/indexing.html#returning-a-view-versus-a-copy\n",
            "  df.loc[next_date] = [np.nan for _ in range(len(df.columns)-1)]+[i]\n",
            "<ipython-input-44-3eb2aa88d409>:10: SettingWithCopyWarning: \n",
            "A value is trying to be set on a copy of a slice from a DataFrame\n",
            "\n",
            "See the caveats in the documentation: https://pandas.pydata.org/pandas-docs/stable/user_guide/indexing.html#returning-a-view-versus-a-copy\n",
            "  df.loc[next_date] = [np.nan for _ in range(len(df.columns)-1)]+[i]\n",
            "<ipython-input-44-3eb2aa88d409>:10: SettingWithCopyWarning: \n",
            "A value is trying to be set on a copy of a slice from a DataFrame\n",
            "\n",
            "See the caveats in the documentation: https://pandas.pydata.org/pandas-docs/stable/user_guide/indexing.html#returning-a-view-versus-a-copy\n",
            "  df.loc[next_date] = [np.nan for _ in range(len(df.columns)-1)]+[i]\n",
            "<ipython-input-44-3eb2aa88d409>:10: SettingWithCopyWarning: \n",
            "A value is trying to be set on a copy of a slice from a DataFrame\n",
            "\n",
            "See the caveats in the documentation: https://pandas.pydata.org/pandas-docs/stable/user_guide/indexing.html#returning-a-view-versus-a-copy\n",
            "  df.loc[next_date] = [np.nan for _ in range(len(df.columns)-1)]+[i]\n",
            "<ipython-input-44-3eb2aa88d409>:10: SettingWithCopyWarning: \n",
            "A value is trying to be set on a copy of a slice from a DataFrame\n",
            "\n",
            "See the caveats in the documentation: https://pandas.pydata.org/pandas-docs/stable/user_guide/indexing.html#returning-a-view-versus-a-copy\n",
            "  df.loc[next_date] = [np.nan for _ in range(len(df.columns)-1)]+[i]\n",
            "<ipython-input-44-3eb2aa88d409>:10: SettingWithCopyWarning: \n",
            "A value is trying to be set on a copy of a slice from a DataFrame\n",
            "\n",
            "See the caveats in the documentation: https://pandas.pydata.org/pandas-docs/stable/user_guide/indexing.html#returning-a-view-versus-a-copy\n",
            "  df.loc[next_date] = [np.nan for _ in range(len(df.columns)-1)]+[i]\n",
            "<ipython-input-44-3eb2aa88d409>:10: SettingWithCopyWarning: \n",
            "A value is trying to be set on a copy of a slice from a DataFrame\n",
            "\n",
            "See the caveats in the documentation: https://pandas.pydata.org/pandas-docs/stable/user_guide/indexing.html#returning-a-view-versus-a-copy\n",
            "  df.loc[next_date] = [np.nan for _ in range(len(df.columns)-1)]+[i]\n",
            "<ipython-input-44-3eb2aa88d409>:10: SettingWithCopyWarning: \n",
            "A value is trying to be set on a copy of a slice from a DataFrame\n",
            "\n",
            "See the caveats in the documentation: https://pandas.pydata.org/pandas-docs/stable/user_guide/indexing.html#returning-a-view-versus-a-copy\n",
            "  df.loc[next_date] = [np.nan for _ in range(len(df.columns)-1)]+[i]\n",
            "<ipython-input-44-3eb2aa88d409>:10: SettingWithCopyWarning: \n",
            "A value is trying to be set on a copy of a slice from a DataFrame\n",
            "\n",
            "See the caveats in the documentation: https://pandas.pydata.org/pandas-docs/stable/user_guide/indexing.html#returning-a-view-versus-a-copy\n",
            "  df.loc[next_date] = [np.nan for _ in range(len(df.columns)-1)]+[i]\n",
            "<ipython-input-44-3eb2aa88d409>:10: SettingWithCopyWarning: \n",
            "A value is trying to be set on a copy of a slice from a DataFrame\n",
            "\n",
            "See the caveats in the documentation: https://pandas.pydata.org/pandas-docs/stable/user_guide/indexing.html#returning-a-view-versus-a-copy\n",
            "  df.loc[next_date] = [np.nan for _ in range(len(df.columns)-1)]+[i]\n",
            "<ipython-input-44-3eb2aa88d409>:10: SettingWithCopyWarning: \n",
            "A value is trying to be set on a copy of a slice from a DataFrame\n",
            "\n",
            "See the caveats in the documentation: https://pandas.pydata.org/pandas-docs/stable/user_guide/indexing.html#returning-a-view-versus-a-copy\n",
            "  df.loc[next_date] = [np.nan for _ in range(len(df.columns)-1)]+[i]\n",
            "<ipython-input-44-3eb2aa88d409>:10: SettingWithCopyWarning: \n",
            "A value is trying to be set on a copy of a slice from a DataFrame\n",
            "\n",
            "See the caveats in the documentation: https://pandas.pydata.org/pandas-docs/stable/user_guide/indexing.html#returning-a-view-versus-a-copy\n",
            "  df.loc[next_date] = [np.nan for _ in range(len(df.columns)-1)]+[i]\n",
            "<ipython-input-44-3eb2aa88d409>:10: SettingWithCopyWarning: \n",
            "A value is trying to be set on a copy of a slice from a DataFrame\n",
            "\n",
            "See the caveats in the documentation: https://pandas.pydata.org/pandas-docs/stable/user_guide/indexing.html#returning-a-view-versus-a-copy\n",
            "  df.loc[next_date] = [np.nan for _ in range(len(df.columns)-1)]+[i]\n",
            "<ipython-input-44-3eb2aa88d409>:10: SettingWithCopyWarning: \n",
            "A value is trying to be set on a copy of a slice from a DataFrame\n",
            "\n",
            "See the caveats in the documentation: https://pandas.pydata.org/pandas-docs/stable/user_guide/indexing.html#returning-a-view-versus-a-copy\n",
            "  df.loc[next_date] = [np.nan for _ in range(len(df.columns)-1)]+[i]\n",
            "<ipython-input-44-3eb2aa88d409>:10: SettingWithCopyWarning: \n",
            "A value is trying to be set on a copy of a slice from a DataFrame\n",
            "\n",
            "See the caveats in the documentation: https://pandas.pydata.org/pandas-docs/stable/user_guide/indexing.html#returning-a-view-versus-a-copy\n",
            "  df.loc[next_date] = [np.nan for _ in range(len(df.columns)-1)]+[i]\n",
            "<ipython-input-44-3eb2aa88d409>:10: SettingWithCopyWarning: \n",
            "A value is trying to be set on a copy of a slice from a DataFrame\n",
            "\n",
            "See the caveats in the documentation: https://pandas.pydata.org/pandas-docs/stable/user_guide/indexing.html#returning-a-view-versus-a-copy\n",
            "  df.loc[next_date] = [np.nan for _ in range(len(df.columns)-1)]+[i]\n"
          ]
        }
      ]
    },
    {
      "cell_type": "markdown",
      "source": [
        "Coding diatas digunakan untuk membuat prediksi *'Forecast'* di masa depan menggunakan model regresi acak (RandomForestRegressor). Langkah-langkahnya meliputi mendapatkan tanggal terakhir dalam dataset, menghitung waktu untuk hari berikutnya, memprediksi data *forecast* dengan model, menambahkan kolom *'Forecast'* ke dalam DataFrame, dan memasukkan nilai prediksi ke dalam kolom tersebut dengan menggunakan waktu berikutnya sebagai indeks.\n",
        "\n",
        "\n",
        "---\n",
        "\n"
      ],
      "metadata": {
        "id": "R494OOib3s0S"
      }
    },
    {
      "cell_type": "code",
      "source": [
        "plt.figure(figsize=(18, 8))\n",
        "df['Adj Close'].plot()\n",
        "df['Forecast'].plot()\n",
        "plt.legend(loc=4)\n",
        "plt.xlabel('Date')\n",
        "plt.ylabel('Price')\n",
        "plt.show()"
      ],
      "metadata": {
        "colab": {
          "base_uri": "https://localhost:8080/",
          "height": 590
        },
        "id": "iqnHOgkvWiQa",
        "outputId": "e43e8ef5-f0c1-4dd9-f915-6cf356622497"
      },
      "execution_count": 45,
      "outputs": [
        {
          "output_type": "display_data",
          "data": {
            "text/plain": [
              "<Figure size 1800x800 with 1 Axes>"
            ],
            "image/png": "[encoded data removed]"
          },
          "metadata": {}
        }
      ]
    },
    {
      "cell_type": "markdown",
      "source": [
        "Dengan coding tersebut, kita dapat melihat visualisasi grafik yang memperlihatkan data 'Adj Close' dan prediksi 'Forecast' dalam satu tampilan.\n",
        "\n",
        "Dalam gambar di atas, garis berwarna oranye menunjukkan hasil peramalan (forecast) untuk harga penutupan 'Adj Close' di masa depan berdasarkan dataset yang ada.\n",
        "\n",
        "Dengan menggunakan model random forest, model akan menggunakan data harga penutupan sebelumnya (garis berwarna biru) untuk membuat prediksi atau forecast harga penutupan berikutnya.\n",
        "\n",
        "---\n",
        "\n"
      ],
      "metadata": {
        "id": "OL01y5El5rQg"
      }
    }
  ],
  "metadata": {
    "accelerator": "TPU",
    "colab": {
      "provenance": [],
      "machine_shape": "hm",
      "gpuClass": "premium",
      "include_colab_link": true
    },
    "kernelspec": {
      "display_name": "Python 3",
      "name": "python3"
    },
    "gpuClass": "premium"
  },
  "nbformat": 4,
  "nbformat_minor": 0
}